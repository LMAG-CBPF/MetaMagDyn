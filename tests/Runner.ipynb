{
 "cells": [
  {
   "cell_type": "markdown",
   "metadata": {},
   "source": [
    "# MetaMagDyn\n",
    "\n",
    "FMR simulation and analysis software using MuMax3 and Python.\n",
    "\n",
    "Step by step guide"
   ]
  },
  {
   "cell_type": "markdown",
   "metadata": {},
   "source": [
    "Import MetaMagDyn as a Package"
   ]
  },
  {
   "cell_type": "code",
   "execution_count": 1,
   "metadata": {},
   "outputs": [],
   "source": [
    "import metamagdyn\n",
    "import numpy as np\n",
    "\n",
    "#Change this if needed \n",
    "metamagdyn.runner.mumaxBin = \"/usr/bin/mumax3\""
   ]
  },
  {
   "cell_type": "markdown",
   "metadata": {},
   "source": [
    "Create a .mx3 file containg only the geometry, materials information and initial magnetization  \n",
    "Use an external editor or use the following template"
   ]
  },
  {
   "cell_type": "code",
   "execution_count": 2,
   "metadata": {},
   "outputs": [],
   "source": [
    "#Here we create the file from a string\n",
    "myFileName = 'Test.mx3'\n",
    "myFileData = '''\n",
    "//Disk r = 0.5um x 20nm\n",
    "\n",
    "Nx := 64\n",
    "Ny := 64\n",
    "Nz := 1\n",
    "radius := 0.5e-6\n",
    "sizeX := radius\n",
    "sizeY := radius\n",
    "sizeZ := 20.0e-9\n",
    "SetGridSize(Nx, Ny, Nz)\n",
    "SetCellSize(sizeX/Nx, sizeY/Ny, sizeZ/Nz)\n",
    "\n",
    "setgeom( circle(radius) )\n",
    "DefRegion(1, circle(radius))\n",
    "\n",
    "//Material properties\n",
    "alpha.SetRegion(1, 0.01)\n",
    "Msat.SetRegion(1, 800e3)\n",
    "Aex.SetRegion(1, 13e-12)\n",
    "\n",
    "//Initial magnetization\n",
    "m.SetRegion(1, Vortex(1,1))\n",
    "'''\n",
    "with open(myFileName, 'w') as text_file:\n",
    "    text_file.write(myFileData)"
   ]
  },
  {
   "cell_type": "markdown",
   "metadata": {},
   "source": [
    "### SimRunner Class\n",
    "\n",
    "Initialize a new simulation using a SimRunner"
   ]
  },
  {
   "cell_type": "code",
   "execution_count": 3,
   "metadata": {},
   "outputs": [],
   "source": [
    "mx3File = 'Test.mx3'\n",
    "MySim = metamagdyn.SimRunner(mx3File)"
   ]
  },
  {
   "cell_type": "markdown",
   "metadata": {},
   "source": [
    "Before initilization  \n",
    "We must fill the fill the following data  \n",
    "\n",
    "**DC field list**  \n",
    "    MySim.hs  \n",
    "\n",
    "**Frequency list**  \n",
    "    MySim.fs  \n",
    "\n",
    "**DC field direction**  \n",
    "    MySim.DC_dir  \n",
    "\n",
    "**RF field direction**  \n",
    "    MySim.RF_dir  "
   ]
  },
  {
   "cell_type": "code",
   "execution_count": 4,
   "metadata": {},
   "outputs": [],
   "source": [
    "MySim.hs = np.linspace(0, 1000, 51)  # from 0 to 1000 Oe (51 points / 20 Oe steps)\n",
    "MySim.fs = np.linspace(4, 12, 81)*1E9  # from 4 to 12 GHz (81 points / 100 MHz steps)\n",
    "MySim.DC_dir = [1,0,0] # x direction\n",
    "MySim.RF_dir = [0,1,0] # y direction"
   ]
  },
  {
   "cell_type": "markdown",
   "metadata": {},
   "source": [
    "Then we initialize and save the simulation data"
   ]
  },
  {
   "cell_type": "code",
   "execution_count": 5,
   "metadata": {},
   "outputs": [],
   "source": [
    "SimName = 'Disk_DC_X_RF_Y'\n",
    "MySim.save(SimName, overwrite=False)"
   ]
  },
  {
   "cell_type": "markdown",
   "metadata": {},
   "source": [
    "If the simulation was already initialized, you will get a message that *Sim_tables* and *Sim_info* already exist and no action is done. This will protect your already simulated data\n",
    "\n",
    "For reset the simulation delete the entire folder named as your SimName\n",
    "\n",
    "To use an already initilized simulation, just create the **SimRunner** using the folder name"
   ]
  },
  {
   "cell_type": "code",
   "execution_count": 6,
   "metadata": {},
   "outputs": [],
   "source": [
    "SimName = 'Disk_DC_X_RF_Y'\n",
    "MyRunner = metamagdyn.SimRunner(SimName)"
   ]
  },
  {
   "cell_type": "markdown",
   "metadata": {},
   "source": [
    "# DC magentization curve\n",
    "\n",
    "Before any RF simulation, the static magnetic states should be calculated.  \n",
    "Just run:"
   ]
  },
  {
   "cell_type": "code",
   "execution_count": 7,
   "metadata": {},
   "outputs": [],
   "source": [
    "SimName = 'Disk_DC_X_RF_Y'\n",
    "MyRunner = metamagdyn.SimRunner(SimName)\n",
    "MyRunner.Run_DC_Field()"
   ]
  },
  {
   "cell_type": "markdown",
   "metadata": {},
   "source": [
    "Check the status of the simulation using:"
   ]
  },
  {
   "cell_type": "code",
   "execution_count": 9,
   "metadata": {},
   "outputs": [
    {
     "data": {
      "text/plain": [
       "'Idle'"
      ]
     },
     "execution_count": 9,
     "metadata": {},
     "output_type": "execute_result"
    }
   ],
   "source": [
    "MyRunner.status\n",
    "#Wait until Idle"
   ]
  },
  {
   "cell_type": "markdown",
   "metadata": {},
   "source": [
    "# RF simulation\n",
    "\n",
    "Whait until the DC_Runner is finished\n",
    "\n",
    "Just run:"
   ]
  },
  {
   "cell_type": "code",
   "execution_count": 14,
   "metadata": {},
   "outputs": [],
   "source": [
    "SimName = 'Disk_DC_X_RF_Y'\n",
    "MyRunner = metamagdyn.SimRunner(SimName)\n",
    "MyRunner.Run_All_Osc(n_threads = 2)"
   ]
  },
  {
   "cell_type": "code",
   "execution_count": 17,
   "metadata": {},
   "outputs": [
    {
     "data": {
      "text/plain": [
       "'Idle'"
      ]
     },
     "execution_count": 17,
     "metadata": {},
     "output_type": "execute_result"
    }
   ],
   "source": [
    "MyRunner.status\n",
    "#Wait until Idle or Stop"
   ]
  },
  {
   "cell_type": "markdown",
   "metadata": {},
   "source": [
    "You can stop the simulation doing:"
   ]
  },
  {
   "cell_type": "code",
   "execution_count": 12,
   "metadata": {},
   "outputs": [],
   "source": [
    "MyRunner.Stop()"
   ]
  },
  {
   "cell_type": "code",
   "execution_count": 18,
   "metadata": {},
   "outputs": [
    {
     "data": {
      "text/plain": [
       "'Idle'"
      ]
     },
     "execution_count": 18,
     "metadata": {},
     "output_type": "execute_result"
    }
   ],
   "source": [
    "MyRunner.status\n",
    "#Wait until Idle"
   ]
  },
  {
   "cell_type": "code",
   "execution_count": null,
   "metadata": {},
   "outputs": [],
   "source": [
    "i"
   ]
  }
 ],
 "metadata": {
  "kernelspec": {
   "display_name": "Python 3",
   "language": "python",
   "name": "python3"
  },
  "language_info": {
   "codemirror_mode": {
    "name": "ipython",
    "version": 3
   },
   "file_extension": ".py",
   "mimetype": "text/x-python",
   "name": "python",
   "nbconvert_exporter": "python",
   "pygments_lexer": "ipython3",
   "version": "3.9.2"
  },
  "vscode": {
   "interpreter": {
    "hash": "916dbcbb3f70747c44a77c7bcd40155683ae19c65e1c03b4aa3499c5328201f1"
   }
  }
 },
 "nbformat": 4,
 "nbformat_minor": 2
}
